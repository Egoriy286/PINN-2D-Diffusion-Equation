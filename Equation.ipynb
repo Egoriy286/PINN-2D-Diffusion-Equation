{
 "cells": [
  {
   "cell_type": "code",
   "execution_count": 15,
   "metadata": {},
   "outputs": [
    {
     "data": {
      "text/latex": [
       "$\\displaystyle 0$"
      ],
      "text/plain": [
       "0"
      ]
     },
     "execution_count": 15,
     "metadata": {},
     "output_type": "execute_result"
    }
   ],
   "source": [
    "import sympy as sp\n",
    "C = 0.1        # Коэффициент C\n",
    "a = 1          # Коэффициент a\n",
    "x, t = sp.symbols(\"x t\")\n",
    "u = C * sp.exp(x + a**2 * t) + sp.sin(x)\n",
    "\n",
    "func = sp.sin(x)\n",
    "\n",
    "pde = sp.diff(u, t) - a**2 * sp.diff(u, x, x) - func\n",
    "\n",
    "pde"
   ]
  },
  {
   "cell_type": "code",
   "execution_count": null,
   "metadata": {},
   "outputs": [],
   "source": []
  }
 ],
 "metadata": {
  "kernelspec": {
   "display_name": "Python 3 (ipykernel)",
   "language": "python",
   "name": "python3"
  },
  "language_info": {
   "codemirror_mode": {
    "name": "ipython",
    "version": 3
   },
   "file_extension": ".py",
   "mimetype": "text/x-python",
   "name": "python",
   "nbconvert_exporter": "python",
   "pygments_lexer": "ipython3",
   "version": "3.10.9"
  }
 },
 "nbformat": 4,
 "nbformat_minor": 2
}
