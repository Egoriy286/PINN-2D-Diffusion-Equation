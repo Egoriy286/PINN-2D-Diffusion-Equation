{
 "cells": [
  {
   "cell_type": "code",
   "execution_count": 7,
   "metadata": {
    "colab": {
     "base_uri": "https://localhost:8080/"
    },
    "id": "E89t4h4RnUKc",
    "outputId": "ac8e8d26-a1d4-40ff-b301-ecc36fbd12c0"
   },
   "outputs": [
    {
     "name": "stdout",
     "output_type": "stream",
     "text": [
      "device is cuda\n"
     ]
    }
   ],
   "source": [
    "import torch\n",
    "import torch.nn as nn\n",
    "from torch.nn import functional as F\n",
    "from torch.autograd import Variable\n",
    "import time\n",
    "import numpy as np\n",
    "import matplotlib.pyplot as plt\n",
    "from tqdm.autonotebook import tqdm\n",
    "\n",
    "device = \"cuda\" if torch.cuda.is_available() else \"cpu\"\n",
    "print(f\"device is {device}\")"
   ]
  },
  {
   "cell_type": "code",
   "execution_count": 8,
   "metadata": {},
   "outputs": [],
   "source": [
    "l2_norm_list = []\n",
    "linf_norm_list = []"
   ]
  },
  {
   "cell_type": "code",
   "execution_count": 9,
   "metadata": {
    "id": "y7271kYs9p0p"
   },
   "outputs": [],
   "source": [
    "# Параметры задачи\n",
    "l = 2          # Длина стержня\n",
    "T = 1          # Конечное время\n",
    "n = 16         # Количество узлов длины стержня\n",
    "m = 8         # Количество узлов времени T\n",
    "h = l / n      # Шаг сетки по l\n",
    "tau = T / m    # Шаг сетки по T\n",
    "\n",
    "# Коэффициенты из задачи\n",
    "C = 0.1        # Коэффициент C\n",
    "a = 1          # Коэффициент a\n",
    "\n",
    "# Начальные и граничные условия\n",
    "def InitialCondition(x):\n",
    "    # Начальное условие: u(x, t=0)\n",
    "    return C * np.e ** (x) + np.sin(x)\n",
    "\n",
    "def BoundaryLeftCondition(t):\n",
    "    # Левое граничное условие: u(x=0, t)\n",
    "    return C * np.e ** (a**2 * t)\n",
    "\n",
    "def BoundaryRightCondition(t):\n",
    "    # Правое граничное условие: u(x=l, t)\n",
    "    return C * np.e ** (l + (a * a) * t) + np.sin(l)\n",
    "\n",
    "def func(x):\n",
    "    # Правая часть уравнения, в данном случае равна sin(x)\n",
    "    return torch.sin(x)\n",
    "\n",
    "def pde(x, t, net):\n",
    "    # Определение уравнения в частных производных\n",
    "    u = net(x, t)  # Сеточная функция u(x, t)\n",
    "    u_x = torch.autograd.grad(u.sum(), x, create_graph=True)[0]  # Первая производная по x\n",
    "    u_xx = torch.autograd.grad(u_x.sum(), x, create_graph=True)[0]  # Вторая производная по x\n",
    "    u_t = torch.autograd.grad(u.sum(), t, create_graph=True)[0]  # Первая производная по t\n",
    "    pde = u_xx - u_t + func(x)  # Уравнение: u_xx - u_t + f(x)\n",
    "    return pde\n",
    "\n",
    "# Подготовка данных для обучения\n",
    "x_bc = np.array([i * h for i in range(n)])  # Сетка по x для граничных условий\n",
    "t_bc = np.array([i * tau for i in range(m)])  # Сетка по t для граничных условий\n",
    "\n",
    "# Формирование граничных условий\n",
    "bc_l = np.vstack([np.zeros((m)),    t_bc,  BoundaryLeftCondition(t_bc)]).T  # Левое граничное условие\n",
    "bc_r = np.vstack([np.ones((m)) * l, t_bc,  BoundaryRightCondition(t_bc)]).T  # Правое граничное условие\n",
    "ic   = np.vstack([x_bc,     np.zeros((n)), InitialCondition(x_bc)]).T  # Начальное условие\n",
    "\n",
    "# Объединение начальных и граничных условий\n",
    "initial_boundary_conditions = np.vstack([bc_l, bc_r, ic])\n",
    "x_initial_bc = initial_boundary_conditions[:, 0].reshape(-1, 1)  # Координаты x для начальных и граничных условий\n",
    "t_initial_bc = initial_boundary_conditions[:, 1].reshape(-1, 1)  # Координаты t для начальных и граничных условий\n",
    "u_initial_bc = initial_boundary_conditions[:, 2].reshape(-1, 1)  # Значения u для начальных и граничных условий\n",
    "\n",
    "# Преобразование данных в тензоры\n",
    "pt_x_initial_bc = torch.autograd.Variable(torch.from_numpy(x_initial_bc).float(), requires_grad=False).to(device)\n",
    "pt_t_initial_bc = torch.autograd.Variable(torch.from_numpy(t_initial_bc).float(), requires_grad=False).to(device)\n",
    "pt_u_initial_bc = torch.autograd.Variable(torch.from_numpy(u_initial_bc).float(), requires_grad=False).to(device)\n",
    "\n",
    "\n",
    "# Создание структурированной сетки для внутренних узлов\n",
    "x_collocation = np.linspace(0, l, n+1)[1:-1]  # Узлы по x без учета граничных точек\n",
    "t_collocation = np.linspace(0, T, m+1)[1:]    # Узлы по t без начальной точки\n",
    "\n",
    "# Создание структурированной сетки\n",
    "X_struct, T_struct = np.meshgrid(x_collocation, t_collocation)\n",
    "\n",
    "# Преобразование двумерной сетки в список координат \n",
    "x_collocation_reshaped = X_struct.flatten().reshape(-1, 1)  # Все координаты x\n",
    "t_collocation_reshaped = T_struct.flatten().reshape(-1, 1)  # Все координаты t\n",
    "\n",
    "# Конвертация в PyTorch тензоры\n",
    "pt_x_collocation = torch.autograd.Variable(torch.from_numpy(x_collocation_reshaped).float(), requires_grad=True).to(device)\n",
    "pt_t_collocation = torch.autograd.Variable(torch.from_numpy(t_collocation_reshaped).float(), requires_grad=True).to(device)\n"
   ]
  },
  {
   "cell_type": "code",
   "execution_count": null,
   "metadata": {
    "id": "pIgQcCUICAst"
   },
   "outputs": [
    {
     "data": {
      "application/vnd.jupyter.widget-view+json": {
       "model_id": "f6bc1b78768443179d9f10dd0417f298",
       "version_major": 2,
       "version_minor": 0
      },
      "text/plain": [
       "Training:   0%|          | 0/250 [00:00<?, ?it/s]"
      ]
     },
     "metadata": {},
     "output_type": "display_data"
    },
    {
     "name": "stdout",
     "output_type": "stream",
     "text": [
      "--- 97.96315598487854 seconds ---\n"
     ]
    },
    {
     "data": {
      "image/png": "[encoded data removed]",
      "text/plain": [
       "<Figure size 640x480 with 1 Axes>"
      ]
     },
     "metadata": {},
     "output_type": "display_data"
    }
   ],
   "source": [
    "# @title Архитектура нейронной сети\n",
    "class Net(nn.Module):\n",
    "    def __init__(self, in_features, mid_features, out_features):\n",
    "        super(Net,self).__init__()\n",
    "        self.lin_linear_1 = self.make_layer(in_features, mid_features * 1)\n",
    "        self.lin_linear_2 = self.make_layer(mid_features * 1, mid_features * 2)\n",
    "        self.lin_linear_3 = self.make_layer(mid_features * 2, mid_features * 2)\n",
    "        self.lin_linear_4 = self.make_layer(mid_features * 2, out_features)\n",
    "        self.tanh = F.tanh\n",
    "\n",
    "    def make_layer(self,in_f,out_f):\n",
    "        return nn.Linear(in_f,out_f)\n",
    "\n",
    "    def forward(self, x, t):\n",
    "        inputs = torch.cat([x, t], axis=1)\n",
    "        x = self.lin_linear_1(inputs)\n",
    "        x = self.tanh(x)\n",
    "        x = self.lin_linear_2(x)\n",
    "        x = self.tanh(x)\n",
    "        x = self.lin_linear_3(x)\n",
    "        x = self.tanh(x)\n",
    "        x = self.lin_linear_4(x)\n",
    "        return x\n",
    "    \n",
    "\n",
    "\n",
    "# Настройка оптимайзера и нейросети, loss MSE\n",
    "MAX_EPOCHS = 100\n",
    "net = Net(2, 6, 1)\n",
    "net = net.to(device)\n",
    "mse_cost_function = torch.nn.MSELoss()\n",
    "optimizer = torch.optim.LBFGS(list(net.parameters()), lr=0.05) # LBFGS требует определения функции closure()\n",
    "\n",
    "\n",
    "# Loss function return mse_pde + mse_bc_ic_u\n",
    "def get_loss(pt_x_collocation, pt_t_collocation, batch_size=None):\n",
    "    net_bc_ic_out = net(pt_x_initial_bc, pt_t_initial_bc)\n",
    "    mse_bc_ic_u = mse_cost_function(net_bc_ic_out, pt_u_initial_bc)\n",
    "\n",
    "    all_zeros = np.zeros((n,1))\n",
    "    pt_all_zeros = Variable(torch.from_numpy(all_zeros).float(), requires_grad=False).to(device)\n",
    "\n",
    "    # PDE потери для всей сетки или батчами\n",
    "    mse_pde = 0\n",
    "    if batch_size:\n",
    "        # Разбиваем на батчи\n",
    "        num_points = pt_x_collocation.shape[0]\n",
    "        for i in tqdm(range(0, num_points, batch_size), desc=\"Collocation Loss\", leave=False):\n",
    "            x_batch = pt_x_collocation[i:i + batch_size]\n",
    "            t_batch = pt_t_collocation[i:i + batch_size]\n",
    "            pde_out = pde(x_batch, t_batch, net)\n",
    "            mse_pde += mse_cost_function(pde_out, torch.zeros_like(pde_out))\n",
    "    else:\n",
    "        # Полная обработка сетки\n",
    "        pde_out = pde(pt_x_collocation, pt_t_collocation, net)\n",
    "        mse_pde = mse_cost_function(pde_out, torch.zeros_like(pde_out))\n",
    "\n",
    "    return mse_bc_ic_u + mse_pde\n",
    "\n",
    "losses = np.zeros((MAX_EPOCHS,1))\n",
    "pbar = tqdm(range(MAX_EPOCHS), desc=\"Training\", leave=True)\n",
    "start_time = time.time()\n",
    "i = 0\n",
    "for epoch in pbar:\n",
    "    net.train()\n",
    "\n",
    "    # Определяем `closure` внутри цикла\n",
    "    def closure():\n",
    "        loss = get_loss(pt_x_collocation, pt_t_collocation)\n",
    "        optimizer.zero_grad()\n",
    "        # Назад распространяем градиенты\n",
    "        loss.backward()\n",
    "        return loss\n",
    "\n",
    "    \n",
    "    # Шаг оптимизатора\n",
    "    optimizer.step(closure)\n",
    "\n",
    "    loss = get_loss(pt_x_collocation, pt_t_collocation, batch_size=None)\n",
    "    # Сохраняем значения `loss` для графика\n",
    "    losses[i] = (loss.detach().cpu().numpy().item())\n",
    "    i += 1 \n",
    "    # Обновляем описание прогресс-бара\n",
    "    pbar.set_description(f\"Epoch {epoch+1}/{MAX_EPOCHS} | Loss: {loss:.10f}\")\n",
    "    \n",
    "\n",
    "print(\"--- %s seconds ---\" % (time.time() - start_time))\n",
    "\n",
    "# Выводим график обучения\n",
    "plt.plot(np.arange(0,MAX_EPOCHS,1),losses, label=\"MSE_loss\")\n",
    "plt.grid()\n",
    "plt.title(\"Residual: MSE_PDE + MSE_BC_IC\")\n",
    "plt.xlabel = \"Epochs\"\n",
    "plt.ylabel = \"losses\"\n",
    "plt.legend()\n",
    "plt.show()\n"
   ]
  },
  {
   "cell_type": "code",
   "execution_count": 11,
   "metadata": {},
   "outputs": [
    {
     "data": {
      "image/png": "[encoded data removed]",
      "text/plain": [
       "<Figure size 1600x600 with 4 Axes>"
      ]
     },
     "metadata": {},
     "output_type": "display_data"
    }
   ],
   "source": [
    "import matplotlib.pyplot as plt\n",
    "\n",
    "# Точное решение\n",
    "def exact(x, t):\n",
    "    return C * np.e ** (x + a**2 * t) + np.sin(x)\n",
    "\n",
    "x=np.linspace(0, l, n+1)\n",
    "t=np.linspace(0, T, m+1)\n",
    "ms_x, ms_t = np.meshgrid(x, t)\n",
    "\n",
    "x = np.ravel(ms_x).reshape(-1,1)\n",
    "t = np.ravel(ms_t).reshape(-1,1)\n",
    "\n",
    "\n",
    "u = exact(x, t)\n",
    "ms_u = u.reshape(ms_x.shape)\n",
    "\n",
    "\n",
    "x=np.linspace(0, l, n+1)\n",
    "t=np.linspace(0, T, m+1)\n",
    "ms_x, ms_t = np.meshgrid(x, t)\n",
    "\n",
    "x = np.ravel(ms_x).reshape(-1,1)\n",
    "t = np.ravel(ms_t).reshape(-1,1)\n",
    "\n",
    "pt_x = Variable(torch.from_numpy(x).float(), requires_grad=True).to(device)\n",
    "pt_t = Variable(torch.from_numpy(t).float(), requires_grad=True).to(device)\n",
    "pt_y = net(pt_x, pt_t)\n",
    "y = pt_y.data.cpu().numpy()\n",
    "ms_y = y.reshape(ms_x.shape)\n",
    "\n",
    "\n",
    "\n",
    "# Точное решение\n",
    "fig, axes = plt.subplots(1, 2, figsize=(16, 6))\n",
    "axes[0].set_title(\"Exact Solution\")\n",
    "im1 = axes[0].imshow(ms_u, extent=[0, l, 0, T], origin='lower', aspect='auto', cmap='coolwarm')\n",
    "axes[0].set_xlabel(r\"$x$\")\n",
    "axes[0].set_ylabel(r\"$t$\")\n",
    "fig.colorbar(im1, ax=axes[0], shrink=0.7, label=r\"$u(x, t)$\")\n",
    "\n",
    "# Приближенное решение\n",
    "axes[1].set_title(\"PINN Solution\")\n",
    "im2 = axes[1].imshow(ms_y, extent=[0, l, 0, T], origin='lower', aspect='auto', cmap='coolwarm')\n",
    "axes[1].set_xlabel(r\"$x$\")\n",
    "axes[1].set_ylabel(r\"$t$\")\n",
    "fig.colorbar(im2, ax=axes[1], shrink=0.7, label=r\"$u(x, t)$\")\n",
    "\n",
    "plt.tight_layout()\n",
    "plt.show()\n"
   ]
  },
  {
   "cell_type": "code",
   "execution_count": 12,
   "metadata": {},
   "outputs": [
    {
     "name": "stdout",
     "output_type": "stream",
     "text": [
      "L2-норма: 0.002041\n",
      "L∞-норма: 0.018852\n"
     ]
    }
   ],
   "source": [
    "import numpy as np\n",
    "\n",
    "# Вычисляем точное решение\n",
    "u_exact = ms_u.ravel()  # Точное решение (плоский массив)\n",
    "u_pred = ms_y.ravel()   # Приближенное решение (плоский массив)\n",
    "\n",
    "# L2-норма\n",
    "l2_norm = np.sqrt(np.mean((u_exact - u_pred) ** 2))\n",
    "l2_norm_list.append([n, m , l2_norm])\n",
    "# L∞-норма\n",
    "linf_norm = np.max(np.abs(u_exact - u_pred))\n",
    "linf_norm_list.append([n, m , linf_norm])\n",
    "\n",
    "print(f\"L2-норма: {l2_norm:.6f}\")\n",
    "print(f\"L∞-норма: {linf_norm:.6f}\")"
   ]
  },
  {
   "cell_type": "code",
   "execution_count": null,
   "metadata": {},
   "outputs": [],
   "source": []
  }
 ],
 "metadata": {
  "accelerator": "GPU",
  "colab": {
   "gpuType": "T4",
   "provenance": []
  },
  "kernelspec": {
   "display_name": "Python 3 (ipykernel)",
   "language": "python",
   "name": "python3"
  },
  "language_info": {
   "codemirror_mode": {
    "name": "ipython",
    "version": 3
   },
   "file_extension": ".py",
   "mimetype": "text/x-python",
   "name": "python",
   "nbconvert_exporter": "python",
   "pygments_lexer": "ipython3",
   "version": "3.10.9"
  }
 },
 "nbformat": 4,
 "nbformat_minor": 0
}
